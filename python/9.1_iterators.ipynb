{
 "cells": [
  {
   "cell_type": "markdown",
   "metadata": {},
   "source": [
    "# Iterators\n",
    "Advanced python concepts that allow for efficient looping and memory management. Iterators provide a way to access elements of a collection incrementally without exposing the underlying structure"
   ]
  },
  {
   "cell_type": "code",
   "execution_count": 2,
   "metadata": {},
   "outputs": [
    {
     "name": "stdout",
     "output_type": "stream",
     "text": [
      "Type of my list\n",
      "<class 'list'>\n",
      "Iterating through list\n",
      "[1, 2, 3, 4, 5]\n"
     ]
    }
   ],
   "source": [
    "# basic behaviour of a list\n",
    "myList = [1,2,3,4,5]\n",
    "print(\"Type of my list\")\n",
    "print(type(myList))\n",
    "print(\"Iterating through list\")\n",
    "print(myList)\n",
    "\"\"\"\n",
    "Type of my list\n",
    "<class 'list'>\n",
    "Iterating through list\n",
    "[1, 2, 3, 4, 5]\n",
    "\"\"\""
   ]
  },
  {
   "cell_type": "code",
   "execution_count": 7,
   "metadata": {},
   "outputs": [
    {
     "name": "stdout",
     "output_type": "stream",
     "text": [
      "1\n",
      "2\n",
      "3\n",
      "4\n",
      "5\n"
     ]
    },
    {
     "data": {
      "text/plain": [
       "'\\n{\\n\\t\"name\": \"StopIteration\",\\n\\t\"message\": \"\",\\n\\t\"stack\": \"---------------------------------------------------------------------------\\nStopIteration                             Traceback (most recent call last)\\nCell In[6], line 12\\n      9         print(\"There are no elements in the iterator\")\\n     11 # after all when again iterating over iter will be throw an exception called StopIteration\\n---> 12 print(next(iterator))\\n\\nStopIteration: \"\\n}\\n'"
      ]
     },
     "execution_count": 7,
     "metadata": {},
     "output_type": "execute_result"
    }
   ],
   "source": [
    "# behavior of a iterator\n",
    "iterator = iter(myList)\n",
    "\n",
    "# iterating over iter\n",
    "for i in range(len(myList)):\n",
    "    try:\n",
    "        print(next(iterator))\n",
    "    except StopIteration:\n",
    "        print(\"There are no elements in the iterator\")\n",
    "\n",
    "\"\"\"\n",
    "1\n",
    "2\n",
    "3\n",
    "4\n",
    "5\n",
    "\"\"\"\n",
    "\n",
    "# after all when again iterating over iter will be throw an exception called StopIteration\n",
    "# print(next(iterator))\n",
    "\n",
    "\"\"\"\n",
    "{\n",
    "\t\"name\": \"StopIteration\",\n",
    "\t\"message\": \"\",\n",
    "\t\"stack\": \"---------------------------------------------------------------------------\n",
    "StopIteration                             Traceback (most recent call last)\n",
    "Cell In[6], line 12\n",
    "      9         print(\\\"There are no elements in the iterator\\\")\n",
    "     11 # after all when again iterating over iter will be throw an exception called StopIteration\n",
    "---> 12 print(next(iterator))\n",
    "\n",
    "StopIteration: \"\n",
    "}\n",
    "\"\"\""
   ]
  }
 ],
 "metadata": {
  "kernelspec": {
   "display_name": "base",
   "language": "python",
   "name": "python3"
  },
  "language_info": {
   "codemirror_mode": {
    "name": "ipython",
    "version": 3
   },
   "file_extension": ".py",
   "mimetype": "text/x-python",
   "name": "python",
   "nbconvert_exporter": "python",
   "pygments_lexer": "ipython3",
   "version": "3.12.4"
  }
 },
 "nbformat": 4,
 "nbformat_minor": 2
}
